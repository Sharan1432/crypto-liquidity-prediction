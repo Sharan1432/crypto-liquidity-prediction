{
 "cells": [
  {
   "cell_type": "markdown",
   "id": "97db8232",
   "metadata": {},
   "source": [
    "# 🌲 Random Forest Model - Save and Load\n",
    "This notebook demonstrates how to save and load a trained Random Forest model."
   ]
  },
  {
   "cell_type": "code",
   "execution_count": null,
   "id": "a0b1c3f9",
   "metadata": {},
   "outputs": [],
   "source": [
    "import pandas as pd\n",
    "import numpy as np\n",
    "from sklearn.ensemble import RandomForestRegressor\n",
    "from sklearn.preprocessing import StandardScaler\n",
    "from sklearn.model_selection import train_test_split\n",
    "from sklearn.metrics import mean_squared_error, mean_absolute_error, r2_score\n",
    "import joblib\n"
   ]
  },
  {
   "cell_type": "code",
   "execution_count": null,
   "id": "0ba030f6",
   "metadata": {},
   "outputs": [],
   "source": [
    "# Example synthetic data for demonstration\n",
    "np.random.seed(42)\n",
    "X = np.random.rand(100, 5)\n",
    "y = X[:, 0] * 0.3 + X[:, 1] * 0.5 + np.random.rand(100) * 0.1\n",
    "\n",
    "X_train, X_test, y_train, y_test = train_test_split(X, y, test_size=0.2, random_state=42)\n",
    "model = RandomForestRegressor(n_estimators=100, max_depth=4, random_state=42)\n",
    "model.fit(X_train, y_train)\n",
    "\n",
    "y_pred = model.predict(X_test)\n",
    "print(\"R² Score:\", r2_score(y_test, y_pred))\n"
   ]
  },
  {
   "cell_type": "code",
   "execution_count": null,
   "id": "ac7e8fe9",
   "metadata": {},
   "outputs": [],
   "source": [
    "# Save the trained model\n",
    "joblib.dump(model, \"rf_model.pkl\")\n",
    "print(\"Model saved as rf_model.pkl\")\n"
   ]
  },
  {
   "cell_type": "code",
   "execution_count": null,
   "id": "8848c481",
   "metadata": {},
   "outputs": [],
   "source": [
    "# Load the model\n",
    "loaded_model = joblib.load(\"rf_model.pkl\")\n",
    "print(\"Model loaded successfully.\")\n"
   ]
  },
  {
   "cell_type": "code",
   "execution_count": null,
   "id": "4e862bdc",
   "metadata": {},
   "outputs": [],
   "source": [
    "# Predict using loaded model\n",
    "sample_input = X_test[:5]\n",
    "sample_pred = loaded_model.predict(sample_input)\n",
    "print(\"Sample Predictions:\", sample_pred)\n"
   ]
  }
 ],
 "metadata": {},
 "nbformat": 4,
 "nbformat_minor": 5
}
