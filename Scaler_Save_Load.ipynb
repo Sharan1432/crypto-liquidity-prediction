{
 "cells": [
  {
   "cell_type": "markdown",
   "id": "f657fd5b",
   "metadata": {},
   "source": [
    "# 🧮 Scaler Save and Load Example\n",
    "This notebook demonstrates how to save and load a `StandardScaler` used in preprocessing."
   ]
  },
  {
   "cell_type": "code",
   "execution_count": null,
   "id": "e6444536",
   "metadata": {},
   "outputs": [],
   "source": [
    "import numpy as np\n",
    "import pandas as pd\n",
    "from sklearn.preprocessing import StandardScaler\n",
    "import joblib\n",
    "\n",
    "# Sample data\n",
    "data = pd.DataFrame({\n",
    "    \"price\": [100, 150, 200],\n",
    "    \"volume\": [1000, 1500, 3000]\n",
    "})\n",
    "\n",
    "data\n"
   ]
  },
  {
   "cell_type": "code",
   "execution_count": null,
   "id": "68db264a",
   "metadata": {},
   "outputs": [],
   "source": [
    "# Initialize and fit scaler\n",
    "scaler = StandardScaler()\n",
    "scaled_data = scaler.fit_transform(data)\n",
    "\n",
    "print(\"Scaled Data:\")\n",
    "print(scaled_data)\n"
   ]
  },
  {
   "cell_type": "code",
   "execution_count": null,
   "id": "9fa7653a",
   "metadata": {},
   "outputs": [],
   "source": [
    "# Save the scaler\n",
    "joblib.dump(scaler, \"scaler.pkl\")\n",
    "print(\"Scaler saved as scaler.pkl\")\n"
   ]
  },
  {
   "cell_type": "code",
   "execution_count": null,
   "id": "06cf536e",
   "metadata": {},
   "outputs": [],
   "source": [
    "# Load the scaler\n",
    "loaded_scaler = joblib.load(\"scaler.pkl\")\n",
    "print(\"Scaler loaded successfully.\")\n"
   ]
  },
  {
   "cell_type": "code",
   "execution_count": null,
   "id": "e208d583",
   "metadata": {},
   "outputs": [],
   "source": [
    "# Transform new data using loaded scaler\n",
    "new_data = pd.DataFrame({\n",
    "    \"price\": [120],\n",
    "    \"volume\": [1800]\n",
    "})\n",
    "scaled_new = loaded_scaler.transform(new_data)\n",
    "\n",
    "print(\"Transformed New Data:\")\n",
    "print(scaled_new)\n"
   ]
  }
 ],
 "metadata": {},
 "nbformat": 4,
 "nbformat_minor": 5
}
